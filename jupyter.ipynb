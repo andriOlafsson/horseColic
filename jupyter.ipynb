{
 "metadata": {
  "language_info": {
   "codemirror_mode": {
    "name": "ipython",
    "version": 3
   },
   "file_extension": ".py",
   "mimetype": "text/x-python",
   "name": "python",
   "nbconvert_exporter": "python",
   "pygments_lexer": "ipython3",
   "version": "3.7.3-final"
  },
  "orig_nbformat": 2,
  "kernelspec": {
   "name": "python3",
   "display_name": "Python 3"
  }
 },
 "nbformat": 4,
 "nbformat_minor": 2,
 "cells": [
  {
   "cell_type": "code",
   "execution_count": 184,
   "metadata": {},
   "outputs": [],
   "source": [
    "import os\n",
    "import pandas as pd \n",
    "import numpy as np\n",
    "import matplotlib.pyplot as plt\n",
    "from sklearn.decomposition import PCA\n"
   ]
  },
  {
   "cell_type": "code",
   "execution_count": 184,
   "metadata": {},
   "outputs": [],
   "source": [
    "\n"
   ]
  },
  {
   "cell_type": "code",
   "execution_count": 185,
   "metadata": {},
   "outputs": [
    {
     "output_type": "execute_result",
     "data": {
      "text/plain": "nasogastric_reflux_ph    82.333333\nabdomo_protein           66.000000\nabdomo_appearance        55.000000\nabdomen                  39.333333\nnasogastric_reflux       35.333333\nnasogastric_tube         34.666667\nrectal_exam_feces        34.000000\nperipheral_pulse         23.000000\nrectal_temp              20.000000\nrespiratory_rate         19.333333\ntemp_of_extremities      18.666667\nabdominal_distention     18.666667\npain                     18.333333\nmucous_membrane          15.666667\nperistalsis              14.666667\ntotal_protein            11.000000\ncapillary_refill_time    10.666667\npacked_cell_volume        9.666667\npulse                     8.000000\nsurgery                   0.333333\noutcome                   0.333333\nlesion_3                  0.000000\nsurgical_lesion           0.000000\nlesion_1                  0.000000\nlesion_2                  0.000000\nhospital_number           0.000000\nage                       0.000000\ncp_data                   0.000000\ndtype: float64"
     },
     "metadata": {},
     "execution_count": 185
    }
   ],
   "source": [
    "# Pre processing\n",
    "\n",
    "# Had to add the column names to the data file\n",
    "# Forcing data types to str to further examine data, forcing lesion attributes as strings because leading zero's will disappear\n",
    "\n",
    "data = pd.read_csv('horse-colic.data', delim_whitespace=True, na_values=\"?\", dtype={'lesion_1':str, 'lesion_2':str, 'lesion_3':str})\n",
    "\n",
    "nullRatio = data.isna().sum() / len(data)*100\n",
    "nullRatio.sort_values(ascending=False)\n"
   ]
  },
  {
   "source": [],
   "cell_type": "markdown",
   "metadata": {}
  },
  {
   "cell_type": "code",
   "execution_count": 186,
   "metadata": {},
   "outputs": [
    {
     "output_type": "execute_result",
     "data": {
      "text/plain": "       rectal_temp       pulse  respiratory_rate  peripheral_pulse  \\\ncount   240.000000  276.000000        242.000000        231.000000   \nmean     38.167917   71.913043         30.417355          2.017316   \nstd       0.732289   28.630557         17.642231          1.042428   \nmin      35.400000   30.000000          8.000000          1.000000   \n25%      37.800000   48.000000         18.500000          1.000000   \n50%      38.200000   64.000000         24.500000          2.000000   \n75%      38.500000   88.000000         36.000000          3.000000   \nmax      40.800000  184.000000         96.000000          4.000000   \n\n       total_protein  packed_cell_volume  \ncount     267.000000          271.000000  \nmean       24.456929           46.295203  \nstd        27.475009           10.419335  \nmin         3.300000           23.000000  \n25%         6.500000           38.000000  \n50%         7.500000           45.000000  \n75%        57.000000           52.000000  \nmax        89.000000           75.000000  ",
      "text/html": "<div>\n<style scoped>\n    .dataframe tbody tr th:only-of-type {\n        vertical-align: middle;\n    }\n\n    .dataframe tbody tr th {\n        vertical-align: top;\n    }\n\n    .dataframe thead th {\n        text-align: right;\n    }\n</style>\n<table border=\"1\" class=\"dataframe\">\n  <thead>\n    <tr style=\"text-align: right;\">\n      <th></th>\n      <th>rectal_temp</th>\n      <th>pulse</th>\n      <th>respiratory_rate</th>\n      <th>peripheral_pulse</th>\n      <th>total_protein</th>\n      <th>packed_cell_volume</th>\n    </tr>\n  </thead>\n  <tbody>\n    <tr>\n      <th>count</th>\n      <td>240.000000</td>\n      <td>276.000000</td>\n      <td>242.000000</td>\n      <td>231.000000</td>\n      <td>267.000000</td>\n      <td>271.000000</td>\n    </tr>\n    <tr>\n      <th>mean</th>\n      <td>38.167917</td>\n      <td>71.913043</td>\n      <td>30.417355</td>\n      <td>2.017316</td>\n      <td>24.456929</td>\n      <td>46.295203</td>\n    </tr>\n    <tr>\n      <th>std</th>\n      <td>0.732289</td>\n      <td>28.630557</td>\n      <td>17.642231</td>\n      <td>1.042428</td>\n      <td>27.475009</td>\n      <td>10.419335</td>\n    </tr>\n    <tr>\n      <th>min</th>\n      <td>35.400000</td>\n      <td>30.000000</td>\n      <td>8.000000</td>\n      <td>1.000000</td>\n      <td>3.300000</td>\n      <td>23.000000</td>\n    </tr>\n    <tr>\n      <th>25%</th>\n      <td>37.800000</td>\n      <td>48.000000</td>\n      <td>18.500000</td>\n      <td>1.000000</td>\n      <td>6.500000</td>\n      <td>38.000000</td>\n    </tr>\n    <tr>\n      <th>50%</th>\n      <td>38.200000</td>\n      <td>64.000000</td>\n      <td>24.500000</td>\n      <td>2.000000</td>\n      <td>7.500000</td>\n      <td>45.000000</td>\n    </tr>\n    <tr>\n      <th>75%</th>\n      <td>38.500000</td>\n      <td>88.000000</td>\n      <td>36.000000</td>\n      <td>3.000000</td>\n      <td>57.000000</td>\n      <td>52.000000</td>\n    </tr>\n    <tr>\n      <th>max</th>\n      <td>40.800000</td>\n      <td>184.000000</td>\n      <td>96.000000</td>\n      <td>4.000000</td>\n      <td>89.000000</td>\n      <td>75.000000</td>\n    </tr>\n  </tbody>\n</table>\n</div>"
     },
     "metadata": {},
     "execution_count": 186
    }
   ],
   "source": [
    "dataBefore = data[['rectal_temp','pulse','respiratory_rate','peripheral_pulse','total_protein','packed_cell_volume']]\n",
    "dataBefore.describe()"
   ]
  },
  {
   "cell_type": "code",
   "execution_count": 187,
   "metadata": {
    "tags": []
   },
   "outputs": [
    {
     "output_type": "stream",
     "name": "stdout",
     "text": "Data dimensions are (samples, features) :  (300, 28)\nData types : \nfloat64    21\nint64       4\nobject      3\ndtype: int64\n"
    }
   ],
   "source": [
    "print('Data dimensions are (samples, features) : ', data.shape)\n",
    "print('Data types : ')\n",
    "print(data.dtypes.value_counts())\n",
    "data.head()\n",
    "\n",
    "adult = data[data.age==1]\n",
    "young = data[data.age==9]\n",
    "\n",
    "\n",
    "# Discretisizing data, there are outliers in the data because young horses have a narrower temperature range and a much higher pulse range.\n",
    "\n",
    "adult['rectal_temp_bin'] = pd.cut(x = adult['rectal_temp'],\n",
    "                        bins = [0,38.3,999],\n",
    "                        labels = ['0','1']) # Low temp, normal temp, high temp\n",
    "\n",
    "adult['pulse_bin'] = pd.cut(x = adult['pulse'],   \n",
    "                        bins = [0,45,999],\n",
    "                        labels = ['0','1']) # low to normal, abnormally high\n",
    "\n",
    "\n",
    "\n",
    "young['rectal_temp_bin'] = pd.cut(x = young['rectal_temp'],\n",
    "                        bins = [0,38.9,999],\n",
    "                        labels = ['0','1']) # Low to normal temp, high temp\n",
    "\n",
    "\n",
    "young['pulse_bin'] = pd.cut(x = young['pulse'],   \n",
    "                        bins = [0,60,999],\n",
    "                        labels = ['0','1']) #  low to normal, abnormally high\n",
    "\n",
    "\n",
    "\n",
    "allHorses = pd.concat([young, adult])\n",
    "\n",
    "allHorses['extremeties'] = pd.cut(x = allHorses['temp_of_extremities'],   \n",
    "                        bins = [0,2,4],\n",
    "                        labels = ['0','1']) # normal, indicate shock\n",
    "\n",
    "allHorses['mucous'] = pd.cut(x = allHorses['mucous_membrane'],   \n",
    "                        bins = [0,2,6],\n",
    "                        labels = ['0','1']) # normal, early shock or dangerous\n",
    "\n",
    "allHorses['packedCell'] = pd.cut(x = allHorses['packed_cell_volume'],   \n",
    "                        bins = [0,30,999],\n",
    "                        labels = ['0','1']) #low and normal, high\n",
    "\n",
    "allHorses['proteinLevel'] = pd.cut(x = allHorses['total_protein'],   \n",
    "                        bins = [0, 7.5, 999],\n",
    "                        labels = ['0','1']) #low and normal, high\n",
    "\n",
    "allHorses['death'] = pd.cut(x = allHorses['outcome'],   \n",
    "                        bins = [0,1,3],\n",
    "                        labels = ['0','1']) #low, normal, high"
   ]
  },
  {
   "source": [
    "<H3> I will remove the following attributes </H3>\n",
    "\n",
    "1. Hospital numbers, 284 unique values of 300 total. No statistically relevant information to be gained\n",
    "2. Nasogastric reflux, Abdomo protein and abdomo appearance all have a huge amount of missing data, from 55% - 82% missing values\n",
    "3. respiratory rate, since it is documented to be doubtful. I lack the domain knowledge, but most values seem to be elevated.\n",
    "4. cp_data indicates if there was research done. Of no value since the additional research data is not included\n",
    "5. lesion_1, lesion_2, lesion_3 are descriptors of the types of lesions. I lack the domain knowledge to use this variable so I will use the \"surgical_lesion\" which indicates if a lesion is present.\n",
    "6. I will filter out young horses because they only represent 8% of the datase, the heart rate and temperature readings are fluctuating a lot. They have a 50% mortality rate compared to adults which have around 40%"
   ],
   "cell_type": "markdown",
   "metadata": {}
  },
  {
   "cell_type": "code",
   "execution_count": 188,
   "metadata": {},
   "outputs": [],
   "source": [
    "\n",
    "# Removing attributes because of reasons stated above\n",
    "allHorses = allHorses.drop(columns=['hospital_number', 'nasogastric_reflux', 'respiratory_rate', 'abdomo_protein','abdomo_appearance', 'cp_data', 'lesion_1','lesion_2','lesion_3']) # 'abdomo_appearance',\n",
    "# removing attributes because of discretiziation\n",
    "allHorses = allHorses.drop(columns=['rectal_temp','pulse','temp_of_extremities','peripheral_pulse','mucous_membrane', 'packed_cell_volume'])\n",
    "allHorses.head()\n",
    "\n",
    "\n",
    "adult = allHorses[allHorses.age == 1]\n"
   ]
  },
  {
   "cell_type": "code",
   "execution_count": null,
   "metadata": {},
   "outputs": [],
   "source": []
  },
  {
   "cell_type": "code",
   "execution_count": 189,
   "metadata": {},
   "outputs": [],
   "source": [
    "test = adult.drop(columns=['age'])\n",
    "test['surgery'] = np.where(test['surgery']== 1.0, True, False)\n",
    "test['capillary_refill_time'] = np.where(test['capillary_refill_time']== 2.0, True, False) # true = long time, adverse effect\n",
    "test.pain = test.pain.fillna(1) # if there is a null value I assume that the horse did not show pain levels, because it was omitted in the data\n",
    "test['pain'] = np.where(test['pain']!=1, True, False)\n",
    "test.peristalsis = test.peristalsis.fillna(2.0)\n",
    "test['peristalsis'] = np.where(test['peristalsis']!=2, True, False) # True for abnormal values\n",
    "\n",
    "test.abdominal_distention = test.abdominal_distention.fillna(1.0)\n",
    "test['abdominal_distention'] = np.where(test['abdominal_distention']!=1.0, True, False) # True for abnormal values\n",
    "test['death'] = np.where(test['death']=='1', True, False) # True for abnormal values\n",
    "test['surgical_lesion'] = np.where(test['surgical_lesion']==1, True, False) # True for abnormal values\n",
    "\n",
    "test.rectal_temp_bin = test.rectal_temp_bin.fillna('0')\n",
    "\n",
    "test['rectal_temp_bin'] = np.where(test['rectal_temp_bin']=='1', True, False) # True for abnormal values\n",
    "\n",
    "test.pulse_bin = test.pulse_bin.fillna('0')\n",
    "test['pulse_bin'] = np.where(test['pulse_bin'] == '1', True, False) # True for abnormal values\n"
   ]
  },
  {
   "cell_type": "code",
   "execution_count": 190,
   "metadata": {},
   "outputs": [],
   "source": [
    "\n",
    "test.mucous = test.mucous.fillna('0')\n",
    "test.packedCell = test.packedCell.fillna('0')\n",
    "test.proteinLevel = test.proteinLevel.fillna('0')\n",
    "test.extremities = test.proteinLevel.fillna('0')\n",
    "\n",
    "\n",
    "\n",
    "test['mucous'] = np.where(test['mucous']=='1', True, False) # True for abnormal values\n",
    "test['packedCell'] = np.where(test['packedCell']=='1', True, False) # True for abnormal values\n",
    "test['proteinLevel'] = np.where(test['proteinLevel']=='1', True, False) # True for abnormal values\n",
    "test['extremeties'] = np.where(test['extremeties']=='1', True, False) # True for abnormal values\n",
    "\n",
    "test.drop(columns=['nasogastric_tube','nasogastric_reflux_ph','rectal_exam_feces','abdomen','total_protein','outcome']).to_csv('test.csv',index=False)\n"
   ]
  },
  {
   "cell_type": "code",
   "execution_count": 191,
   "metadata": {},
   "outputs": [],
   "source": [
    "# test[['surgery','capillary_refill_time','pain','peristalsis','abdominal_distention','death']].to_csv('test.csv',index=False)"
   ]
  },
  {
   "cell_type": "code",
   "execution_count": 192,
   "metadata": {},
   "outputs": [],
   "source": [
    "adult.drop(columns=['age']).to_csv('adultHorses.csv', index=False)"
   ]
  },
  {
   "cell_type": "code",
   "execution_count": 193,
   "metadata": {},
   "outputs": [
    {
     "output_type": "execute_result",
     "data": {
      "text/plain": "PCA(copy=True, iterated_power='auto', n_components=4, random_state=None,\n  svd_solver='auto', tol=0.0, whiten=False)"
     },
     "metadata": {},
     "execution_count": 193
    }
   ],
   "source": [
    "test = allHorses[['surgery','age','surgical_lesion','outcome']]\n",
    "test = test[test.outcome==2]\n",
    "test.surgery = test.surgery.fillna('0')\n",
    "test.age = test.age.fillna('0')\n",
    "test.surgical_lesion = test.surgical_lesion.fillna('0')\n",
    "test.outcome = test.outcome.fillna('0')\n",
    "\n",
    "\n",
    "\n",
    "pca = PCA(n_components=4)\n",
    "pca.fit(test)\n"
   ]
  },
  {
   "cell_type": "code",
   "execution_count": 194,
   "metadata": {},
   "outputs": [
    {
     "output_type": "execute_result",
     "data": {
      "text/plain": "          0         1         2    3\n0 -0.023179  0.999667  0.011332 -0.0\n1  0.904357  0.016134  0.426471  0.0\n2 -0.426146 -0.020134  0.904430  0.0\n3  0.000000  0.000000  0.000000  1.0",
      "text/html": "<div>\n<style scoped>\n    .dataframe tbody tr th:only-of-type {\n        vertical-align: middle;\n    }\n\n    .dataframe tbody tr th {\n        vertical-align: top;\n    }\n\n    .dataframe thead th {\n        text-align: right;\n    }\n</style>\n<table border=\"1\" class=\"dataframe\">\n  <thead>\n    <tr style=\"text-align: right;\">\n      <th></th>\n      <th>0</th>\n      <th>1</th>\n      <th>2</th>\n      <th>3</th>\n    </tr>\n  </thead>\n  <tbody>\n    <tr>\n      <th>0</th>\n      <td>-0.023179</td>\n      <td>0.999667</td>\n      <td>0.011332</td>\n      <td>-0.0</td>\n    </tr>\n    <tr>\n      <th>1</th>\n      <td>0.904357</td>\n      <td>0.016134</td>\n      <td>0.426471</td>\n      <td>0.0</td>\n    </tr>\n    <tr>\n      <th>2</th>\n      <td>-0.426146</td>\n      <td>-0.020134</td>\n      <td>0.904430</td>\n      <td>0.0</td>\n    </tr>\n    <tr>\n      <th>3</th>\n      <td>0.000000</td>\n      <td>0.000000</td>\n      <td>0.000000</td>\n      <td>1.0</td>\n    </tr>\n  </tbody>\n</table>\n</div>"
     },
     "metadata": {},
     "execution_count": 194
    }
   ],
   "source": [
    "pd.DataFrame(pca.components_)"
   ]
  },
  {
   "cell_type": "code",
   "execution_count": 195,
   "metadata": {},
   "outputs": [
    {
     "output_type": "execute_result",
     "data": {
      "text/plain": "2.0    15\n1.0    13\n3.0    10\nName: outcome, dtype: int64"
     },
     "metadata": {},
     "execution_count": 195
    }
   ],
   "source": [
    "data[['abdominal_distention','outcome']] # mætti skoða þetta betur, 1\n",
    "data[data.abdominal_distention==4].outcome.value_counts()\n",
    "#  13: abdominal distension\n",
    "#          - An IMPORTANT parameter.\n",
    "#          - possible values\n",
    "#               1 = none (61 live, 7 die, 7 euthanized)\n",
    "#               2 = slight (47 live, 14 die, 4 euthanized)\n",
    "#               3 = moderate (26 live, 27 die, 12 euthanized)\n",
    "#               4 = severe (13 live, 15 die, 10 euthanized)\n",
    "#          - an animal with abdominal distension is likely to be painful and\n",
    "#            have reduced gut motility.\n",
    "#          - a horse with severe abdominal distension is likely to require\n",
    "#            surgery just tio relieve the pressure"
   ]
  }
 ]
}